{
 "cells": [
  {
   "cell_type": "code",
   "execution_count": 3,
   "id": "e2249e14",
   "metadata": {},
   "outputs": [],
   "source": [
    "import sqlite3 "
   ]
  },
  {
   "cell_type": "code",
   "execution_count": 11,
   "id": "085ce55a",
   "metadata": {},
   "outputs": [
    {
     "name": "stdout",
     "output_type": "stream",
     "text": [
      "2.6.0\n",
      "2. Query all tasks\n",
      "('Pool Table', '07', 103)\n",
      "('Massage Room 1', '07', 77)\n",
      "('Snooker Table', '07', 68)\n",
      "('Tennis Court 1', '07', 65)\n",
      "('Badminton Court', '07', 51)\n",
      "('Table Tennis', '07', 48)\n",
      "('Tennis Court 2', '07', 41)\n",
      "('Squash Court', '07', 23)\n",
      "('Massage Room 2', '07', 4)\n",
      "('Pool Table', '08', 272)\n",
      "('Snooker Table', '08', 154)\n",
      "('Massage Room 1', '08', 153)\n",
      "('Table Tennis', '08', 143)\n",
      "('Badminton Court', '08', 132)\n",
      "('Tennis Court 1', '08', 111)\n",
      "('Tennis Court 2', '08', 109)\n",
      "('Squash Court', '08', 85)\n",
      "('Massage Room 2', '08', 9)\n",
      "('Pool Table', '09', 408)\n",
      "('Snooker Table', '09', 199)\n",
      "('Table Tennis', '09', 194)\n",
      "('Massage Room 1', '09', 191)\n",
      "('Badminton Court', '09', 161)\n",
      "('Tennis Court 1', '09', 132)\n",
      "('Tennis Court 2', '09', 126)\n",
      "('Squash Court', '09', 87)\n",
      "('Massage Room 2', '09', 14)\n"
     ]
    }
   ],
   "source": [
    "def create_connection(db_file):\n",
    "    \"\"\" create a database connection to the SQLite database\n",
    "        specified by the db_file\n",
    "    :param db_file: database file\n",
    "    :return: Connection object or None\n",
    "    \"\"\"\n",
    "    conn = None\n",
    "    try:\n",
    "        conn = sqlite3.connect(db_file)\n",
    "        print(sqlite3.version)\n",
    "    except Error as e:\n",
    "        print(e)\n",
    " \n",
    "    return conn\n",
    "\n",
    " \n",
    "def select_all_tasks(conn):\n",
    "    \"\"\"\n",
    "    Query all rows in the tasks table\n",
    "    :param conn: the Connection object\n",
    "    :return:\n",
    "    \"\"\"\n",
    "    cur = conn.cursor()\n",
    "    \n",
    "    query1 = \"\"\"\n",
    "        SELECT\n",
    "            f.name AS facility_name,\n",
    "            strftime('%m', b.starttime) AS month,\n",
    "            COUNT(b.bookid) AS usage_count\n",
    "        FROM \n",
    "            FACILITIES AS f\n",
    "        JOIN \n",
    "            BOOKINGS AS b ON f.facid = b.facid\n",
    "        WHERE \n",
    "            b.memid != 0\n",
    "        GROUP BY \n",
    "            f.name, month\n",
    "        ORDER BY \n",
    "            month, usage_count DESC;\n",
    "        \"\"\"\n",
    "    cur.execute(query1)\n",
    " \n",
    "    rows = cur.fetchall()\n",
    " \n",
    "    for row in rows:\n",
    "        print(row)\n",
    "\n",
    "\n",
    "def main():\n",
    "    database = \"test.db\"\n",
    " \n",
    "    # create a database connection\n",
    "    conn = create_connection(database)\n",
    "    with conn: \n",
    "        print(\"2. Query all tasks\")\n",
    "        select_all_tasks(conn)\n",
    " \n",
    " \n",
    "if __name__ == '__main__':\n",
    "    main()"
   ]
  },
  {
   "cell_type": "code",
   "execution_count": null,
   "id": "a895c64a",
   "metadata": {},
   "outputs": [],
   "source": []
  }
 ],
 "metadata": {
  "kernelspec": {
   "display_name": "Python 3 (ipykernel)",
   "language": "python",
   "name": "python3"
  },
  "language_info": {
   "codemirror_mode": {
    "name": "ipython",
    "version": 3
   },
   "file_extension": ".py",
   "mimetype": "text/x-python",
   "name": "python",
   "nbconvert_exporter": "python",
   "pygments_lexer": "ipython3",
   "version": "3.11.5"
  }
 },
 "nbformat": 4,
 "nbformat_minor": 5
}
